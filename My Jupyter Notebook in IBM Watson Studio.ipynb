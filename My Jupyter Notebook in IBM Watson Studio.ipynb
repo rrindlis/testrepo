{
 "cells": [
  {
   "cell_type": "markdown",
   "id": "bcb26e73-9194-454b-9103-b58bff7972c3",
   "metadata": {},
   "source": [
    "# My Jupyter Notebook on IBM Watson Studio"
   ]
  },
  {
   "cell_type": "markdown",
   "id": "c5778a6c-e4df-4308-be2f-22ab8926749a",
   "metadata": {},
   "source": [
    "**Renton Rindlisbacher**\n",
    "\n",
    "Aspiring Data Analyst/Data Scientist"
   ]
  },
  {
   "cell_type": "markdown",
   "id": "159c3fb3-75e2-42b9-95fd-5cb7531ce8d0",
   "metadata": {},
   "source": [
    "*I am interested in Data Science because I've always been interested in technology and its advancement. Also having some computer programming experience, I'm interested in the many different things that can be achieved through programming.*"
   ]
  },
  {
   "cell_type": "markdown",
   "id": "d98b3b0e-067d-472f-a0d8-209aaee472ef",
   "metadata": {},
   "source": [
    "### The code below is meant to define and solve a simple algebra problem"
   ]
  },
  {
   "cell_type": "code",
   "execution_count": 10,
   "id": "e5c786b6-fc82-41da-82ab-b4b9c8dc4481",
   "metadata": {},
   "outputs": [
    {
     "data": {
      "text/plain": [
       "12"
      ]
     },
     "execution_count": 10,
     "metadata": {},
     "output_type": "execute_result"
    }
   ],
   "source": [
    "def algebra(n):\n",
    "    return n*(n+1)\n",
    "\n",
    "algebra(3)"
   ]
  },
  {
   "cell_type": "markdown",
   "id": "2b9a63d4-1e78-43a7-a44f-1f24c8fef3d8",
   "metadata": {},
   "source": [
    "| Header | Header | Header |\n",
    "| ------ | ------ | ------ |\n",
    "| Row 1 | Row 1 | Row 1 |\n",
    "| Row 2 | Row 2 | Row 2 |\n",
    "| Row 3 | Row 3 | Row 3 |\n",
    "\n",
    "The\n",
    "---\n",
    "Horizontal\n",
    "---\n",
    "Rule\n",
    "---\n",
    "\n",
    "- Bullet\n",
    "- Point\n",
    "- List"
   ]
  }
 ],
 "metadata": {
  "kernelspec": {
   "display_name": "Python",
   "language": "python",
   "name": "conda-env-python-py"
  },
  "language_info": {
   "codemirror_mode": {
    "name": "ipython",
    "version": 3
   },
   "file_extension": ".py",
   "mimetype": "text/x-python",
   "name": "python",
   "nbconvert_exporter": "python",
   "pygments_lexer": "ipython3",
   "version": "3.7.12"
  }
 },
 "nbformat": 4,
 "nbformat_minor": 5
}
